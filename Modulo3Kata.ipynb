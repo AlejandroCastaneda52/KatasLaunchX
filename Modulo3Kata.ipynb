{
 "cells": [
  {
   "cell_type": "code",
   "execution_count": 1,
   "metadata": {},
   "outputs": [
    {
     "name": "stdout",
     "output_type": "stream",
     "text": [
      "¡¡Un asteroide con una velocidad mayor a 25 km/s se se acerca!!\n"
     ]
    }
   ],
   "source": [
    "ast = 49\n",
    "if ast > 25:\n",
    "    print(\"¡¡Un asteroide con una velocidad mayor a 25 km/s se se acerca!!\")\n",
    "else:\n",
    "    print(\"Todo normal por los alrededores\")\n",
    "\n"
   ]
  },
  {
   "cell_type": "code",
   "execution_count": 2,
   "metadata": {},
   "outputs": [
    {
     "name": "stdout",
     "output_type": "stream",
     "text": [
      "Hoy no es un día de suerte para pedir un deseo\n"
     ]
    }
   ],
   "source": [
    "ast = 19\n",
    "if ast >= 20:\n",
    "    print(\"Es momento de admirar el cielo, un rayo de luz que cumple deseos, está por verse\")\n",
    "else:\n",
    "    print(\"Hoy no es un día de suerte para pedir un deseo\")"
   ]
  },
  {
   "cell_type": "code",
   "execution_count": 3,
   "metadata": {},
   "outputs": [
    {
     "name": "stdout",
     "output_type": "stream",
     "text": [
      "Cuidado, un asteroide con posibilidad de ocasionar un gran daño, golpeará la tierra\n"
     ]
    }
   ],
   "source": [
    "ast_dimension = 50\n",
    "ast_velocidad = 25\n",
    "if ast_dimension > 25 and ast_velocidad <= 25:\n",
    "    print(\"Cuidado, un asteroide con posibilidad de ocasionar un gran daño, golpeará la tierra\")\n",
    "elif ast_velocidad > 25:\n",
    "    print(\"Advertencia un asteroide puede colisionar en la tierra\")\n",
    "elif ast_velocidad >= 20:\n",
    "    print(\"El asteroide puede que deje un rayo de luz, mira el cielo\")\n",
    "else:\n",
    "    print(\"Sin peligros el día de hoy\")"
   ]
  }
 ],
 "metadata": {
  "interpreter": {
   "hash": "9ea3831e75bae3e4b3f0d5dbd8791e5ee891d154915d7f9b39c0ef412cb61072"
  },
  "kernelspec": {
   "display_name": "Python 3.10.2 64-bit",
   "language": "python",
   "name": "python3"
  },
  "language_info": {
   "codemirror_mode": {
    "name": "ipython",
    "version": 3
   },
   "file_extension": ".py",
   "mimetype": "text/x-python",
   "name": "python",
   "nbconvert_exporter": "python",
   "pygments_lexer": "ipython3",
   "version": "3.10.2"
  },
  "orig_nbformat": 4
 },
 "nbformat": 4,
 "nbformat_minor": 2
}
