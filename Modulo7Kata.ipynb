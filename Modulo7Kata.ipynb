{
 "cells": [
  {
   "cell_type": "code",
   "execution_count": 4,
   "metadata": {},
   "outputs": [
    {
     "name": "stdout",
     "output_type": "stream",
     "text": [
      "Tierra\n",
      "Marte\n",
      "Jupiter\n"
     ]
    }
   ],
   "source": [
    "new_planet = input(\"Ingresa el nombre del planeta\")\n",
    "planets = []\n",
    "while new_planet.lower() != 'done':\n",
    "    planets.append(new_planet)\n",
    "    new_planet = input(\"Ingresa otro planeta o teclea 'Done' para finalizar el ciclo\")\n",
    "\n",
    "for planeta in planets:\n",
    "    print(planeta)\n",
    "\n",
    "\n"
   ]
  }
 ],
 "metadata": {
  "interpreter": {
   "hash": "9ea3831e75bae3e4b3f0d5dbd8791e5ee891d154915d7f9b39c0ef412cb61072"
  },
  "kernelspec": {
   "display_name": "Python 3.10.2 64-bit",
   "language": "python",
   "name": "python3"
  },
  "language_info": {
   "codemirror_mode": {
    "name": "ipython",
    "version": 3
   },
   "file_extension": ".py",
   "mimetype": "text/x-python",
   "name": "python",
   "nbconvert_exporter": "python",
   "pygments_lexer": "ipython3",
   "version": "3.10.2"
  },
  "orig_nbformat": 4
 },
 "nbformat": 4,
 "nbformat_minor": 2
}
