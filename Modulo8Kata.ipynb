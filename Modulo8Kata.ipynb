{
 "cells": [
  {
   "cell_type": "code",
   "execution_count": 19,
   "metadata": {},
   "outputs": [
    {
     "name": "stdout",
     "output_type": "stream",
     "text": [
      "Mars tiene 2 lunas\n",
      "Mars tiene en km de circunferencia 6752 \n"
     ]
    }
   ],
   "source": [
    "planet = {\n",
    "    'name': 'Mars',\n",
    "    'moons': 2\n",
    "}\n",
    "print(\"%s tiene %i lunas\" % (planet.get(\"name\"),planet.get(\"moons\")))\n",
    "\n",
    "planet['circunferencia (km)'] = {\n",
    "    'polar': 6752,\n",
    "    'equatorial': 6792\n",
    "}\n",
    "print(\"%s tiene en km de circunferencia polar de %r \" %(planet.get(\"name\"),planet[\"circunferencia (km)\"][\"polar\"]))\n"
   ]
  },
  {
   "cell_type": "code",
   "execution_count": 35,
   "metadata": {},
   "outputs": [
    {
     "name": "stdout",
     "output_type": "stream",
     "text": [
      "dict_values([0, 0, 1, 2, 79, 82, 27, 14, 5, 2, 1, 1])\n",
      "Total de planetas : 12\n",
      "Total de lunas: 214\n",
      "el promedio de lunas del diccionario es de 17.833333\n"
     ]
    }
   ],
   "source": [
    "planet_moons = {\n",
    "    'mercury': 0,\n",
    "    'venus': 0,\n",
    "    'earth': 1,\n",
    "    'mars': 2,\n",
    "    'jupiter': 79,\n",
    "    'saturn': 82,\n",
    "    'uranus': 27,\n",
    "    'neptune': 14,\n",
    "    'pluto': 5,\n",
    "    'haumea': 2,\n",
    "    'makemake': 1,\n",
    "    'eris': 1\n",
    "}\n",
    "moons = planet_moons.values()\n",
    "print(moons)\n",
    "planets = len(planet_moons.keys())\n",
    "print(\"Total de planetas : %i\" %planets)\n",
    "\n",
    "total_moons = 0\n",
    "for moon in moons:\n",
    "    total_moons = total_moons + moon\n",
    "print(\"Total de lunas: %i\" %total_moons)\n",
    "\n",
    "promedio = total_moons / planets\n",
    "print(\"el promedio de lunas del diccionario es de %f\" %(promedio) )\n"
   ]
  }
 ],
 "metadata": {
  "interpreter": {
   "hash": "9ea3831e75bae3e4b3f0d5dbd8791e5ee891d154915d7f9b39c0ef412cb61072"
  },
  "kernelspec": {
   "display_name": "Python 3.10.2 64-bit",
   "language": "python",
   "name": "python3"
  },
  "language_info": {
   "codemirror_mode": {
    "name": "ipython",
    "version": 3
   },
   "file_extension": ".py",
   "mimetype": "text/x-python",
   "name": "python",
   "nbconvert_exporter": "python",
   "pygments_lexer": "ipython3",
   "version": "3.10.2"
  },
  "orig_nbformat": 4
 },
 "nbformat": 4,
 "nbformat_minor": 2
}
