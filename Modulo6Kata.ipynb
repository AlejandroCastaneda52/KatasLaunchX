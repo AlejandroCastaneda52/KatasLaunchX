{
 "cells": [
  {
   "cell_type": "code",
   "execution_count": 9,
   "metadata": {},
   "outputs": [
    {
     "name": "stdout",
     "output_type": "stream",
     "text": [
      "Actualmente hay 8 planetas\n",
      "El último planeta que se puede añadir al sistema solar es Plutón\n",
      "Y tendríamos 9 planetas\n"
     ]
    }
   ],
   "source": [
    "planets = [\"Mercurio\",\"Venus\",\"Tierra\",\"Marte\",\"Júpiter\",\"Saturno\",\"Urano\",\"Neptuno\"]\n",
    "print(\"Actualmente hay \" + str(len(planets)) + \" planetas\")\n",
    "\n",
    "planets.append(\"Plutón\")\n",
    "print(\"El último planeta que se puede añadir al sistema solar es \" + planets[-1])\n",
    "print(\"Y tendríamos \" + str(len(planets)) + \" planetas\")\n"
   ]
  },
  {
   "cell_type": "code",
   "execution_count": 20,
   "metadata": {},
   "outputs": [
    {
     "name": "stdout",
     "output_type": "stream",
     "text": [
      "Es el 3 planeta mas cercano al sol\n",
      "Los planetas más cercanos al sol antes del seleccionado son ['Mercurio', 'Venus']\n",
      "Los planetas más alejados al sol después del seleccionado son ['Marte', 'Júpiter', 'Saturno', 'Neptuno']\n"
     ]
    }
   ],
   "source": [
    "planetas = [\"Mercurio\",\"Venus\",\"Tierra\",\"Marte\",\"Júpiter\",\"Saturno\",\"Neptuno\"]\n",
    "Planetainput = input(\"Ingrese el nombre del planeta iniciando por letra mayúscula y acento si tiene\")\n",
    "print(\"Es el \" + str(planetas.index(Planetainput) + 1) + \" planeta mas cercano al sol\")\n",
    "print(\"Los planetas más cercanos al sol antes del seleccionado son \" + str(planetas[0:planetas.index(Planetainput)]))\n",
    "print(\"Los planetas más alejados al sol después del seleccionado son \" + str(planetas[planetas.index(Planetainput) + 1:]))"
   ]
  }
 ],
 "metadata": {
  "interpreter": {
   "hash": "9ea3831e75bae3e4b3f0d5dbd8791e5ee891d154915d7f9b39c0ef412cb61072"
  },
  "kernelspec": {
   "display_name": "Python 3.10.2 64-bit",
   "language": "python",
   "name": "python3"
  },
  "language_info": {
   "codemirror_mode": {
    "name": "ipython",
    "version": 3
   },
   "file_extension": ".py",
   "mimetype": "text/x-python",
   "name": "python",
   "nbconvert_exporter": "python",
   "pygments_lexer": "ipython3",
   "version": "3.10.2"
  },
  "orig_nbformat": 4
 },
 "nbformat": 4,
 "nbformat_minor": 2
}
