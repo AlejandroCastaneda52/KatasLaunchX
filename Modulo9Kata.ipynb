{
 "cells": [
  {
   "cell_type": "code",
   "execution_count": 19,
   "metadata": {},
   "outputs": [
    {
     "name": "stdout",
     "output_type": "stream",
     "text": [
      "Tanque 1: 5 \n",
      "Tanque 2: 10 \n",
      "Tanque 3: 3 \n",
      "Combustible total: 18.000000\n",
      "Pomedio de combustible: 6.000000\n",
      "\n",
      "\n",
      "Tanque 1: 50 \n",
      "Tanque 2: 10 \n",
      "Tanque 3: 40 \n",
      "Combustible total: 100.000000\n",
      "Pomedio de combustible: 33.333333\n"
     ]
    }
   ],
   "source": [
    "def informe(tanque1, tanque2, tanque3):\n",
    "    suma = tanque1 + tanque2 + tanque3\n",
    "    promedio = suma / 3\n",
    "    print(\"Tanque 1: %i \\nTanque 2: %i \\nTanque 3: %i \" %(tanque1,tanque2,tanque3))\n",
    "    print(\"Combustible total: %f\" % suma)\n",
    "    print(\"Pomedio de combustible: %f\" % promedio)\n",
    "informe(5,10,3)\n",
    "def promedio(values):\n",
    "    suma = sum(values)\n",
    "    promedio = suma / len(values)\n",
    "    return promedio\n",
    "promedio([5,10,3])\n",
    "print(\"\\n\")\n",
    "def informe2(tanque1,tanque2,tanque3):\n",
    "    suma = tanque1 + tanque2 + tanque3\n",
    "    print(\"Tanque 1: %i \\nTanque 2: %i \\nTanque 3: %i \" %(tanque1,tanque2,tanque3))\n",
    "    print(\"Combustible total: %f\" % suma)\n",
    "    print(\"Pomedio de combustible: %f\" % promedio([tanque1,tanque2,tanque3]))\n",
    "informe2(50,10,40)\n"
   ]
  },
  {
   "cell_type": "code",
   "execution_count": 29,
   "metadata": {},
   "outputs": [
    {
     "name": "stdout",
     "output_type": "stream",
     "text": [
      "Para poder llegar a Marte, se necesita 15 minutos para prepara el preelanzamiento y son 40 minutos de vuelo, dando así 55 minutos de vuelo total \n",
      "Se necesitan 4500 litros de combustible\n",
      "\n",
      "\n",
      "Para llegar a Tierra son 48 minutos y 6000 litros de combustible\n",
      "\n",
      "\n",
      "Para llegar a Venus son 25 minutos y 10000 litros de combustible\n",
      "{'TanqueExterno': 8000, 'TanqueInterno': 2000}\n"
     ]
    }
   ],
   "source": [
    "#hora de prelanzamiento, tiempo de vuelo, destino, tanque externo y tanque interno\n",
    "def informe(preelanzamiento,vuelo,destino,tanqueExt,tanqueIntr):\n",
    "    sumatimepo = preelanzamiento + vuelo\n",
    "    sumatanques = tanqueExt + tanqueIntr\n",
    "    print(\"Para poder llegar a %s, se necesita %i minutos para prepara el preelanzamiento y son %i minutos de vuelo, dando así %i minutos de vuelo total \\nSe necesitan %i litros de combustible\" %(destino,preelanzamiento,vuelo,sumatimepo,sumatanques))\n",
    "informe(15,40,'Marte',3000,1500)\n",
    "print(\"\\n\")\n",
    "def informe2(destino, *minutos, **combustible):\n",
    "    min = sum(minutos)\n",
    "    combus = sum(combustible.values())\n",
    "    print(\"Para llegar a %s son %i minutos y %i litros de combustible\" % (destino,min,combus))\n",
    "informe2('Tierra',10,15,13,10,TanqueExterno = 4000,TanqueInterno = 2000)\n",
    "print(\"\\n\")\n",
    "def informe3(destino,*minutos,**combustible):\n",
    "    min = sum(minutos)\n",
    "    combus = sum(combustible.values())\n",
    "    print(\"Para llegar a %s son %i minutos y %i litros de combustible\" % (destino,min,combus))\n",
    "    print(combustible)\n",
    "informe3('Venus',10,15,TanqueExterno = 8000,TanqueInterno = 2000)    \n"
   ]
  }
 ],
 "metadata": {
  "interpreter": {
   "hash": "9ea3831e75bae3e4b3f0d5dbd8791e5ee891d154915d7f9b39c0ef412cb61072"
  },
  "kernelspec": {
   "display_name": "Python 3.10.2 64-bit",
   "language": "python",
   "name": "python3"
  },
  "language_info": {
   "codemirror_mode": {
    "name": "ipython",
    "version": 3
   },
   "file_extension": ".py",
   "mimetype": "text/x-python",
   "name": "python",
   "nbconvert_exporter": "python",
   "pygments_lexer": "ipython3",
   "version": "3.10.2"
  },
  "orig_nbformat": 4
 },
 "nbformat": 4,
 "nbformat_minor": 2
}
