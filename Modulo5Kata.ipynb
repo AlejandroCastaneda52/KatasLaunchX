{
 "cells": [
  {
   "cell_type": "code",
   "execution_count": 22,
   "metadata": {},
   "outputs": [
    {
     "name": "stdout",
     "output_type": "stream",
     "text": [
      "628949330\n",
      "390810874.13143003\n"
     ]
    }
   ],
   "source": [
    "Tierra = 149597870\n",
    "Jupiter = 778547200\n",
    "\n",
    "Distancia = Jupiter - Tierra\n",
    "DistanciaMillas = Distancia * 0.621371\n",
    "\n",
    "print(Distancia)\n",
    "print(DistanciaMillas)"
   ]
  },
  {
   "cell_type": "code",
   "execution_count": 28,
   "metadata": {},
   "outputs": [
    {
     "name": "stdout",
     "output_type": "stream",
     "text": [
      "57900000 - 108200000\n",
      "La distancia de los planetas es de 50300000 KM\n",
      "La distancia de los panetas es de 31236300.0 Millas\n"
     ]
    }
   ],
   "source": [
    "Var1 = input(\"Distancia al sol del primer planeta\")\n",
    "Var2 = input(\"Distancia al sol del segundo planeta\")\n",
    "\n",
    "Var1 = int(Var1)\n",
    "Var2 = int(Var2)\n",
    "\n",
    "Distancia = abs(Var2 - Var1)\n",
    "DistanciaMillas = abs(Distancia * 0.621)\n",
    "\n",
    "print(str(Var1) + \" - \" +str(Var2))\n",
    "print(\"La distancia de los planetas es de \" + str(Distancia) + \" KM\")\n",
    "print(\"La distancia de los panetas es de \" + str(DistanciaMillas) + \" Millas\")\n",
    "\n",
    "\n"
   ]
  }
 ],
 "metadata": {
  "interpreter": {
   "hash": "9ea3831e75bae3e4b3f0d5dbd8791e5ee891d154915d7f9b39c0ef412cb61072"
  },
  "kernelspec": {
   "display_name": "Python 3.10.2 64-bit",
   "language": "python",
   "name": "python3"
  },
  "language_info": {
   "codemirror_mode": {
    "name": "ipython",
    "version": 3
   },
   "file_extension": ".py",
   "mimetype": "text/x-python",
   "name": "python",
   "nbconvert_exporter": "python",
   "pygments_lexer": "ipython3",
   "version": "3.10.2"
  },
  "orig_nbformat": 4
 },
 "nbformat": 4,
 "nbformat_minor": 2
}
