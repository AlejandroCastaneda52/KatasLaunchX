{
 "cells": [
  {
   "cell_type": "code",
   "execution_count": 2,
   "metadata": {},
   "outputs": [
    {
     "data": {
      "text/plain": [
       "['Interesting facts about the Moon',\n",
       " \" The Moon is Earth's only satellite\",\n",
       " ' There are several interesting facts about the Moon and how it affects life here on Earth',\n",
       " ' On average, the Moon moves 4cm away from the Earth every year',\n",
       " ' This yearly drift is not significant enough to cause immediate effects on Earth',\n",
       " ' The highest daylight temperature of the Moon is 127 C',\n",
       " '']"
      ]
     },
     "execution_count": 2,
     "metadata": {},
     "output_type": "execute_result"
    }
   ],
   "source": [
    "text = \"\"\"Interesting facts about the Moon. The Moon is Earth's only satellite. There are several interesting facts about the Moon and how it affects life here on Earth. On average, the Moon moves 4cm away from the Earth every year. This yearly drift is not significant enough to cause immediate effects on Earth. The highest daylight temperature of the Moon is 127 C.\"\"\"\n",
    "\n",
    "Oraciones_text = text.split('.')\n",
    "Oraciones_text"
   ]
  },
  {
   "cell_type": "code",
   "execution_count": 33,
   "metadata": {},
   "outputs": [
    {
     "name": "stdout",
     "output_type": "stream",
     "text": [
      " On average, the Moon moves 4cm away from the Earth every year\n",
      " The highest daylight temperature of the Moon is 127 C\n"
     ]
    }
   ],
   "source": [
    "Clave_text = ['average','temperature','distance']\n",
    "for Clave in Oraciones_text:\n",
    "    for P_Clave in Clave_text:\n",
    "        if P_Clave in Clave:\n",
    "            print(Clave)"
   ]
  },
  {
   "cell_type": "code",
   "execution_count": 84,
   "metadata": {},
   "outputs": [
    {
     "name": "stdout",
     "output_type": "stream",
     "text": [
      " On average, the Moon moves 4cm away from the Earth every year\n",
      " The highest daylight temperature of the Moon is 127 Celsius\n"
     ]
    }
   ],
   "source": [
    "Clave_text = ['average','temperature','distance']\n",
    "for Clave in Oraciones_text:\n",
    "    for P_Clave in Clave_text:\n",
    "        if P_Clave in Clave:\n",
    "            print(Clave.replace('C', 'Celsius'))"
   ]
  },
  {
   "cell_type": "code",
   "execution_count": 121,
   "metadata": {},
   "outputs": [
    {
     "name": "stdout",
     "output_type": "stream",
     "text": [
      "Informacion Acerca Del Satélite Natural Luna\n",
      "--------------------------------------------------------------------------------\n",
      "Nombre del planeta  Tierra\n",
      "Gravedad en el satélite Luna: 1.620000 m/s^2\n"
     ]
    }
   ],
   "source": [
    "nombre = 'Luna'\n",
    "gravedad = 0.00162\n",
    "gravedad = gravedad * 1000\n",
    "planeta = 'Tierra'\n",
    "titulo = 'Informacion acerca del satélite natural %s' % nombre\n",
    "tit = titulo.title()\n",
    "print(tit)\n",
    "plantilla = ('-'*80) + \"\\nNombre del planeta  %s\\nGravedad en el satélite %s: %f m/s^2\" % (planeta,nombre,gravedad)\n",
    "print(plantilla)"
   ]
  },
  {
   "cell_type": "code",
   "execution_count": 122,
   "metadata": {},
   "outputs": [
    {
     "name": "stdout",
     "output_type": "stream",
     "text": [
      "Informacion Acerca Del Satélite Natural Ganímedes\n",
      "--------------------------------------------------------------------------------\n",
      "Nombre del planeta  Marte\n",
      "Gravedad en el satélite Ganímedes: 1.430000 m/s^2\n"
     ]
    }
   ],
   "source": [
    "nombre = 'Ganímedes'\n",
    "gravedad = 0.00143\n",
    "gravedad = gravedad * 1000\n",
    "planeta = 'Marte'\n",
    "titulo = 'Informacion acerca del satélite natural %s' % nombre\n",
    "tit = titulo.title()\n",
    "print(tit)\n",
    "plantilla = ('-'*80) + \"\\nNombre del planeta  %s\\nGravedad en el satélite %s: %f m/s^2\" % (planeta,nombre,gravedad)\n",
    "print(plantilla)"
   ]
  }
 ],
 "metadata": {
  "interpreter": {
   "hash": "9ea3831e75bae3e4b3f0d5dbd8791e5ee891d154915d7f9b39c0ef412cb61072"
  },
  "kernelspec": {
   "display_name": "Python 3.10.2 64-bit",
   "language": "python",
   "name": "python3"
  },
  "language_info": {
   "codemirror_mode": {
    "name": "ipython",
    "version": 3
   },
   "file_extension": ".py",
   "mimetype": "text/x-python",
   "name": "python",
   "nbconvert_exporter": "python",
   "pygments_lexer": "ipython3",
   "version": "3.10.2"
  },
  "orig_nbformat": 4
 },
 "nbformat": 4,
 "nbformat_minor": 2
}
